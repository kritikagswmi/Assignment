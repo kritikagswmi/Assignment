{
 "cells": [
  {
   "cell_type": "code",
   "execution_count": 1,
   "metadata": {},
   "outputs": [],
   "source": [
    "#import pandas as pd \n",
    "#df_consumer_product = pd.read_excel(\"consumer_product.xlsx\")\n",
    "#df_sold_plan = pd.read_excel(\"sold_plan.xlsx\")"
   ]
  },
  {
   "cell_type": "code",
   "execution_count": null,
   "metadata": {},
   "outputs": [],
   "source": [
    "import pandas as pd\n",
    "import mysql.connector\n",
    "import pandas as pd\n",
    "\n",
    "conn = mysql.connector.connect(\n",
    "    host='52.66.79.237',\n",
    "    database='servify_assignment',\n",
    "    user='candidate',\n",
    "    password='asdfgh123')"
   ]
  },
  {
   "cell_type": "code",
   "execution_count": null,
   "metadata": {},
   "outputs": [],
   "source": [
    "df_sold_plan = pd.read_sql_query(\n",
    "\"SELECT * from sold_plan\",\n",
    "conn)"
   ]
  },
  {
   "cell_type": "code",
   "execution_count": null,
   "metadata": {},
   "outputs": [],
   "source": [
    "df_consumer_product = pd.read_sql_query(\n",
    "    \"SELECT * from consumer_product\",\n",
    "    conn)"
   ]
  },
  {
   "cell_type": "code",
   "execution_count": 5,
   "metadata": {},
   "outputs": [
    {
     "data": {
      "text/html": [
       "<div>\n",
       "<style scoped>\n",
       "    .dataframe tbody tr th:only-of-type {\n",
       "        vertical-align: middle;\n",
       "    }\n",
       "\n",
       "    .dataframe tbody tr th {\n",
       "        vertical-align: top;\n",
       "    }\n",
       "\n",
       "    .dataframe thead th {\n",
       "        text-align: right;\n",
       "    }\n",
       "</style>\n",
       "<table border=\"1\" class=\"dataframe\">\n",
       "  <thead>\n",
       "    <tr style=\"text-align: right;\">\n",
       "      <th></th>\n",
       "      <th>SoldPlanID</th>\n",
       "      <th>PlanID</th>\n",
       "      <th>PlanAmount</th>\n",
       "      <th>FulfillerID</th>\n",
       "      <th>ConsumerProductID</th>\n",
       "      <th>ConsumerID</th>\n",
       "      <th>DateOfPurchase</th>\n",
       "      <th>DateOfActivation</th>\n",
       "      <th>ValidityDate</th>\n",
       "      <th>Status</th>\n",
       "      <th>Source</th>\n",
       "      <th>CreatedDate</th>\n",
       "    </tr>\n",
       "  </thead>\n",
       "  <tbody>\n",
       "    <tr>\n",
       "      <th>0</th>\n",
       "      <td>183</td>\n",
       "      <td>19</td>\n",
       "      <td>1299</td>\n",
       "      <td>1</td>\n",
       "      <td>2289116</td>\n",
       "      <td>597286</td>\n",
       "      <td>2018-05-17 11:37:11</td>\n",
       "      <td>2018-05-25 06:46:54</td>\n",
       "      <td>2018-12-05</td>\n",
       "      <td>0</td>\n",
       "      <td>Store</td>\n",
       "      <td>2018-05-23 22:57:34</td>\n",
       "    </tr>\n",
       "    <tr>\n",
       "      <th>1</th>\n",
       "      <td>227</td>\n",
       "      <td>18</td>\n",
       "      <td>1499</td>\n",
       "      <td>1</td>\n",
       "      <td>13313689</td>\n",
       "      <td>655779</td>\n",
       "      <td>2018-04-29 20:22:46</td>\n",
       "      <td>2018-05-03 19:35:08</td>\n",
       "      <td>2017-12-04</td>\n",
       "      <td>1</td>\n",
       "      <td>Web</td>\n",
       "      <td>2018-05-17 06:27:03</td>\n",
       "    </tr>\n",
       "  </tbody>\n",
       "</table>\n",
       "</div>"
      ],
      "text/plain": [
       "   SoldPlanID  PlanID  PlanAmount  FulfillerID  ConsumerProductID  ConsumerID  \\\n",
       "0         183      19        1299            1            2289116      597286   \n",
       "1         227      18        1499            1           13313689      655779   \n",
       "\n",
       "       DateOfPurchase    DateOfActivation ValidityDate  Status Source  \\\n",
       "0 2018-05-17 11:37:11 2018-05-25 06:46:54   2018-12-05       0  Store   \n",
       "1 2018-04-29 20:22:46 2018-05-03 19:35:08   2017-12-04       1    Web   \n",
       "\n",
       "          CreatedDate  \n",
       "0 2018-05-23 22:57:34  \n",
       "1 2018-05-17 06:27:03  "
      ]
     },
     "execution_count": 5,
     "metadata": {},
     "output_type": "execute_result"
    }
   ],
   "source": [
    "df_consumer_product.head(2)\n",
    "df_sold_plan.head(2)"
   ]
  },
  {
   "cell_type": "markdown",
   "metadata": {},
   "source": [
    "# Exploring the Data"
   ]
  },
  {
   "cell_type": "code",
   "execution_count": 7,
   "metadata": {},
   "outputs": [
    {
     "name": "stdout",
     "output_type": "stream",
     "text": [
      "<class 'pandas.core.frame.DataFrame'>\n",
      "Int64Index: 50575 entries, 0 to 50574\n",
      "Data columns (total 11 columns):\n",
      "ConsumerProductID    50575 non-null int64\n",
      "ConsumerID           50575 non-null int64\n",
      "BrandID              50575 non-null int64\n",
      "ProductID            50575 non-null int64\n",
      "IMEI1                50575 non-null int64\n",
      "IMEI2                50575 non-null int64\n",
      "SerialNo             50575 non-null object\n",
      "DateOfPurchase       50575 non-null datetime64[ns]\n",
      "WarrantyTill         50575 non-null datetime64[ns]\n",
      "IsActive             50575 non-null int64\n",
      "CreatedDate          50575 non-null datetime64[ns]\n",
      "dtypes: datetime64[ns](3), int64(7), object(1)\n",
      "memory usage: 4.6+ MB\n",
      "<class 'pandas.core.frame.DataFrame'>\n",
      "Int64Index: 23215 entries, 0 to 23214\n",
      "Data columns (total 12 columns):\n",
      "SoldPlanID           23215 non-null int64\n",
      "PlanID               23215 non-null int64\n",
      "PlanAmount           23215 non-null int64\n",
      "FulfillerID          23215 non-null int64\n",
      "ConsumerProductID    23215 non-null int64\n",
      "ConsumerID           23215 non-null int64\n",
      "DateOfPurchase       23215 non-null datetime64[ns]\n",
      "DateOfActivation     23215 non-null datetime64[ns]\n",
      "ValidityDate         23215 non-null datetime64[ns]\n",
      "Status               23215 non-null int64\n",
      "Source               23215 non-null object\n",
      "CreatedDate          23215 non-null datetime64[ns]\n",
      "dtypes: datetime64[ns](4), int64(7), object(1)\n",
      "memory usage: 2.3+ MB\n"
     ]
    }
   ],
   "source": [
    "df_consumer_product.head(2)\n",
    "df_consumer_product.info()\n",
    "df_sold_plan.head(2)\n",
    "df_sold_plan.info()"
   ]
  },
  {
   "cell_type": "markdown",
   "metadata": {},
   "source": [
    "# Summarization of Data Statistically\n",
    "No missing values found"
   ]
  },
  {
   "cell_type": "code",
   "execution_count": 8,
   "metadata": {},
   "outputs": [
    {
     "data": {
      "text/html": [
       "<div>\n",
       "<style scoped>\n",
       "    .dataframe tbody tr th:only-of-type {\n",
       "        vertical-align: middle;\n",
       "    }\n",
       "\n",
       "    .dataframe tbody tr th {\n",
       "        vertical-align: top;\n",
       "    }\n",
       "\n",
       "    .dataframe thead th {\n",
       "        text-align: right;\n",
       "    }\n",
       "</style>\n",
       "<table border=\"1\" class=\"dataframe\">\n",
       "  <thead>\n",
       "    <tr style=\"text-align: right;\">\n",
       "      <th></th>\n",
       "      <th>SoldPlanID</th>\n",
       "      <th>PlanID</th>\n",
       "      <th>PlanAmount</th>\n",
       "      <th>FulfillerID</th>\n",
       "      <th>ConsumerProductID</th>\n",
       "      <th>ConsumerID</th>\n",
       "      <th>Status</th>\n",
       "    </tr>\n",
       "  </thead>\n",
       "  <tbody>\n",
       "    <tr>\n",
       "      <th>count</th>\n",
       "      <td>2.321500e+04</td>\n",
       "      <td>23215.000000</td>\n",
       "      <td>23215.000000</td>\n",
       "      <td>23215.0</td>\n",
       "      <td>2.321500e+04</td>\n",
       "      <td>23215.000000</td>\n",
       "      <td>23215.000000</td>\n",
       "    </tr>\n",
       "    <tr>\n",
       "      <th>mean</th>\n",
       "      <td>9.993116e+05</td>\n",
       "      <td>9.986000</td>\n",
       "      <td>1348.950463</td>\n",
       "      <td>1.0</td>\n",
       "      <td>1.002056e+07</td>\n",
       "      <td>501018.936463</td>\n",
       "      <td>0.232393</td>\n",
       "    </tr>\n",
       "    <tr>\n",
       "      <th>std</th>\n",
       "      <td>5.750154e+05</td>\n",
       "      <td>5.474269</td>\n",
       "      <td>228.041644</td>\n",
       "      <td>0.0</td>\n",
       "      <td>5.777678e+06</td>\n",
       "      <td>287227.354238</td>\n",
       "      <td>2.165259</td>\n",
       "    </tr>\n",
       "    <tr>\n",
       "      <th>min</th>\n",
       "      <td>1.830000e+02</td>\n",
       "      <td>1.000000</td>\n",
       "      <td>999.000000</td>\n",
       "      <td>1.0</td>\n",
       "      <td>2.305000e+03</td>\n",
       "      <td>56.000000</td>\n",
       "      <td>-3.000000</td>\n",
       "    </tr>\n",
       "    <tr>\n",
       "      <th>25%</th>\n",
       "      <td>5.035295e+05</td>\n",
       "      <td>5.000000</td>\n",
       "      <td>1299.000000</td>\n",
       "      <td>1.0</td>\n",
       "      <td>5.013360e+06</td>\n",
       "      <td>255174.500000</td>\n",
       "      <td>-3.000000</td>\n",
       "    </tr>\n",
       "    <tr>\n",
       "      <th>50%</th>\n",
       "      <td>9.996500e+05</td>\n",
       "      <td>10.000000</td>\n",
       "      <td>1299.000000</td>\n",
       "      <td>1.0</td>\n",
       "      <td>1.004843e+07</td>\n",
       "      <td>498297.000000</td>\n",
       "      <td>0.000000</td>\n",
       "    </tr>\n",
       "    <tr>\n",
       "      <th>75%</th>\n",
       "      <td>1.498953e+06</td>\n",
       "      <td>15.000000</td>\n",
       "      <td>1499.000000</td>\n",
       "      <td>1.0</td>\n",
       "      <td>1.502322e+07</td>\n",
       "      <td>749913.500000</td>\n",
       "      <td>1.000000</td>\n",
       "    </tr>\n",
       "    <tr>\n",
       "      <th>max</th>\n",
       "      <td>1.999999e+06</td>\n",
       "      <td>19.000000</td>\n",
       "      <td>1599.000000</td>\n",
       "      <td>1.0</td>\n",
       "      <td>1.999927e+07</td>\n",
       "      <td>999966.000000</td>\n",
       "      <td>3.000000</td>\n",
       "    </tr>\n",
       "  </tbody>\n",
       "</table>\n",
       "</div>"
      ],
      "text/plain": [
       "         SoldPlanID        PlanID    PlanAmount  FulfillerID  \\\n",
       "count  2.321500e+04  23215.000000  23215.000000      23215.0   \n",
       "mean   9.993116e+05      9.986000   1348.950463          1.0   \n",
       "std    5.750154e+05      5.474269    228.041644          0.0   \n",
       "min    1.830000e+02      1.000000    999.000000          1.0   \n",
       "25%    5.035295e+05      5.000000   1299.000000          1.0   \n",
       "50%    9.996500e+05     10.000000   1299.000000          1.0   \n",
       "75%    1.498953e+06     15.000000   1499.000000          1.0   \n",
       "max    1.999999e+06     19.000000   1599.000000          1.0   \n",
       "\n",
       "       ConsumerProductID     ConsumerID        Status  \n",
       "count       2.321500e+04   23215.000000  23215.000000  \n",
       "mean        1.002056e+07  501018.936463      0.232393  \n",
       "std         5.777678e+06  287227.354238      2.165259  \n",
       "min         2.305000e+03      56.000000     -3.000000  \n",
       "25%         5.013360e+06  255174.500000     -3.000000  \n",
       "50%         1.004843e+07  498297.000000      0.000000  \n",
       "75%         1.502322e+07  749913.500000      1.000000  \n",
       "max         1.999927e+07  999966.000000      3.000000  "
      ]
     },
     "execution_count": 8,
     "metadata": {},
     "output_type": "execute_result"
    }
   ],
   "source": [
    "df_consumer_product.describe()\n",
    "df_sold_plan.describe()"
   ]
  },
  {
   "cell_type": "code",
   "execution_count": 9,
   "metadata": {},
   "outputs": [],
   "source": [
    "#Merging two data frames df_consumer_product & df_sold_plan\n",
    "df_merged = pd.merge(df_consumer_product, df_sold_plan, on='ConsumerID',how='inner')"
   ]
  },
  {
   "cell_type": "code",
   "execution_count": 10,
   "metadata": {},
   "outputs": [
    {
     "data": {
      "text/html": [
       "<div>\n",
       "<style scoped>\n",
       "    .dataframe tbody tr th:only-of-type {\n",
       "        vertical-align: middle;\n",
       "    }\n",
       "\n",
       "    .dataframe tbody tr th {\n",
       "        vertical-align: top;\n",
       "    }\n",
       "\n",
       "    .dataframe thead th {\n",
       "        text-align: right;\n",
       "    }\n",
       "</style>\n",
       "<table border=\"1\" class=\"dataframe\">\n",
       "  <thead>\n",
       "    <tr style=\"text-align: right;\">\n",
       "      <th></th>\n",
       "      <th>ConsumerProductID_x</th>\n",
       "      <th>ConsumerID</th>\n",
       "      <th>BrandID</th>\n",
       "      <th>ProductID</th>\n",
       "      <th>IMEI1</th>\n",
       "      <th>IMEI2</th>\n",
       "      <th>SerialNo</th>\n",
       "      <th>DateOfPurchase_x</th>\n",
       "      <th>WarrantyTill</th>\n",
       "      <th>IsActive</th>\n",
       "      <th>...</th>\n",
       "      <th>PlanID</th>\n",
       "      <th>PlanAmount</th>\n",
       "      <th>FulfillerID</th>\n",
       "      <th>ConsumerProductID_y</th>\n",
       "      <th>DateOfPurchase_y</th>\n",
       "      <th>DateOfActivation</th>\n",
       "      <th>ValidityDate</th>\n",
       "      <th>Status</th>\n",
       "      <th>Source</th>\n",
       "      <th>CreatedDate_y</th>\n",
       "    </tr>\n",
       "  </thead>\n",
       "  <tbody>\n",
       "    <tr>\n",
       "      <th>0</th>\n",
       "      <td>2305</td>\n",
       "      <td>904329</td>\n",
       "      <td>81</td>\n",
       "      <td>911</td>\n",
       "      <td>840343632183828</td>\n",
       "      <td>927619086584227</td>\n",
       "      <td>DS7YD25138N9N</td>\n",
       "      <td>2017-09-10</td>\n",
       "      <td>2018-09-10</td>\n",
       "      <td>1</td>\n",
       "      <td>...</td>\n",
       "      <td>12</td>\n",
       "      <td>999</td>\n",
       "      <td>1</td>\n",
       "      <td>2305</td>\n",
       "      <td>2018-04-22 03:54:02</td>\n",
       "      <td>2018-04-29 11:05:46</td>\n",
       "      <td>2018-09-10</td>\n",
       "      <td>1</td>\n",
       "      <td>Store</td>\n",
       "      <td>2018-05-08 22:22:55</td>\n",
       "    </tr>\n",
       "    <tr>\n",
       "      <th>1</th>\n",
       "      <td>4083</td>\n",
       "      <td>860497</td>\n",
       "      <td>21</td>\n",
       "      <td>358</td>\n",
       "      <td>150876878891545</td>\n",
       "      <td>576523728858407</td>\n",
       "      <td>6RO8Y347D0R1T</td>\n",
       "      <td>2016-08-03</td>\n",
       "      <td>2017-08-03</td>\n",
       "      <td>1</td>\n",
       "      <td>...</td>\n",
       "      <td>2</td>\n",
       "      <td>1499</td>\n",
       "      <td>1</td>\n",
       "      <td>4083</td>\n",
       "      <td>2017-12-06 15:33:41</td>\n",
       "      <td>2018-03-07 05:47:39</td>\n",
       "      <td>2017-08-03</td>\n",
       "      <td>1</td>\n",
       "      <td>App</td>\n",
       "      <td>2018-01-29 06:00:15</td>\n",
       "    </tr>\n",
       "    <tr>\n",
       "      <th>2</th>\n",
       "      <td>4412</td>\n",
       "      <td>990148</td>\n",
       "      <td>75</td>\n",
       "      <td>180</td>\n",
       "      <td>556628322411947</td>\n",
       "      <td>835549662536309</td>\n",
       "      <td>RNX8CIPP544SQ</td>\n",
       "      <td>2016-12-09</td>\n",
       "      <td>2017-12-09</td>\n",
       "      <td>1</td>\n",
       "      <td>...</td>\n",
       "      <td>16</td>\n",
       "      <td>1499</td>\n",
       "      <td>1</td>\n",
       "      <td>4412</td>\n",
       "      <td>2017-02-26 15:30:10</td>\n",
       "      <td>2017-09-06 21:20:17</td>\n",
       "      <td>2017-12-09</td>\n",
       "      <td>-3</td>\n",
       "      <td>Web</td>\n",
       "      <td>2018-05-18 22:18:13</td>\n",
       "    </tr>\n",
       "    <tr>\n",
       "      <th>3</th>\n",
       "      <td>5730</td>\n",
       "      <td>460045</td>\n",
       "      <td>90</td>\n",
       "      <td>293</td>\n",
       "      <td>270807361885311</td>\n",
       "      <td>938073936858134</td>\n",
       "      <td>EW1J42ZAM3WDG</td>\n",
       "      <td>2018-04-15</td>\n",
       "      <td>2019-04-15</td>\n",
       "      <td>1</td>\n",
       "      <td>...</td>\n",
       "      <td>14</td>\n",
       "      <td>1599</td>\n",
       "      <td>1</td>\n",
       "      <td>5730</td>\n",
       "      <td>2018-05-19 16:54:49</td>\n",
       "      <td>2018-05-23 16:47:52</td>\n",
       "      <td>2019-04-15</td>\n",
       "      <td>-3</td>\n",
       "      <td>Web</td>\n",
       "      <td>2018-05-21 17:37:04</td>\n",
       "    </tr>\n",
       "    <tr>\n",
       "      <th>4</th>\n",
       "      <td>6154</td>\n",
       "      <td>186926</td>\n",
       "      <td>33</td>\n",
       "      <td>265</td>\n",
       "      <td>951601041414413</td>\n",
       "      <td>162714863341527</td>\n",
       "      <td>U5T6NZ60O4JM9</td>\n",
       "      <td>2018-04-08</td>\n",
       "      <td>2019-04-08</td>\n",
       "      <td>1</td>\n",
       "      <td>...</td>\n",
       "      <td>17</td>\n",
       "      <td>1299</td>\n",
       "      <td>1</td>\n",
       "      <td>6154</td>\n",
       "      <td>2018-05-25 00:08:19</td>\n",
       "      <td>2018-05-25 11:29:10</td>\n",
       "      <td>2019-04-08</td>\n",
       "      <td>3</td>\n",
       "      <td>App</td>\n",
       "      <td>2018-05-25 10:04:40</td>\n",
       "    </tr>\n",
       "  </tbody>\n",
       "</table>\n",
       "<p>5 rows × 22 columns</p>\n",
       "</div>"
      ],
      "text/plain": [
       "   ConsumerProductID_x  ConsumerID  BrandID  ProductID            IMEI1  \\\n",
       "0                 2305      904329       81        911  840343632183828   \n",
       "1                 4083      860497       21        358  150876878891545   \n",
       "2                 4412      990148       75        180  556628322411947   \n",
       "3                 5730      460045       90        293  270807361885311   \n",
       "4                 6154      186926       33        265  951601041414413   \n",
       "\n",
       "             IMEI2       SerialNo DateOfPurchase_x WarrantyTill  IsActive  \\\n",
       "0  927619086584227  DS7YD25138N9N       2017-09-10   2018-09-10         1   \n",
       "1  576523728858407  6RO8Y347D0R1T       2016-08-03   2017-08-03         1   \n",
       "2  835549662536309  RNX8CIPP544SQ       2016-12-09   2017-12-09         1   \n",
       "3  938073936858134  EW1J42ZAM3WDG       2018-04-15   2019-04-15         1   \n",
       "4  162714863341527  U5T6NZ60O4JM9       2018-04-08   2019-04-08         1   \n",
       "\n",
       "          ...         PlanID  PlanAmount  FulfillerID  ConsumerProductID_y  \\\n",
       "0         ...             12         999            1                 2305   \n",
       "1         ...              2        1499            1                 4083   \n",
       "2         ...             16        1499            1                 4412   \n",
       "3         ...             14        1599            1                 5730   \n",
       "4         ...             17        1299            1                 6154   \n",
       "\n",
       "     DateOfPurchase_y    DateOfActivation ValidityDate Status Source  \\\n",
       "0 2018-04-22 03:54:02 2018-04-29 11:05:46   2018-09-10      1  Store   \n",
       "1 2017-12-06 15:33:41 2018-03-07 05:47:39   2017-08-03      1    App   \n",
       "2 2017-02-26 15:30:10 2017-09-06 21:20:17   2017-12-09     -3    Web   \n",
       "3 2018-05-19 16:54:49 2018-05-23 16:47:52   2019-04-15     -3    Web   \n",
       "4 2018-05-25 00:08:19 2018-05-25 11:29:10   2019-04-08      3    App   \n",
       "\n",
       "        CreatedDate_y  \n",
       "0 2018-05-08 22:22:55  \n",
       "1 2018-01-29 06:00:15  \n",
       "2 2018-05-18 22:18:13  \n",
       "3 2018-05-21 17:37:04  \n",
       "4 2018-05-25 10:04:40  \n",
       "\n",
       "[5 rows x 22 columns]"
      ]
     },
     "execution_count": 10,
     "metadata": {},
     "output_type": "execute_result"
    }
   ],
   "source": [
    "df_merged.head(5)"
   ]
  },
  {
   "cell_type": "code",
   "execution_count": 11,
   "metadata": {},
   "outputs": [
    {
     "data": {
      "text/plain": [
       "(23929, 22)"
      ]
     },
     "execution_count": 11,
     "metadata": {},
     "output_type": "execute_result"
    }
   ],
   "source": [
    "df_merged.shape"
   ]
  },
  {
   "cell_type": "code",
   "execution_count": 14,
   "metadata": {},
   "outputs": [
    {
     "name": "stdout",
     "output_type": "stream",
     "text": [
      "<class 'pandas.core.frame.DataFrame'>\n",
      "Int64Index: 23929 entries, 0 to 23928\n",
      "Data columns (total 22 columns):\n",
      "ConsumerProductID_x    23929 non-null int64\n",
      "ConsumerID             23929 non-null int64\n",
      "BrandID                23929 non-null int64\n",
      "ProductID              23929 non-null int64\n",
      "IMEI1                  23929 non-null int64\n",
      "IMEI2                  23929 non-null int64\n",
      "SerialNo               23929 non-null object\n",
      "DateOfPurchase_x       23929 non-null datetime64[ns]\n",
      "WarrantyTill           23929 non-null datetime64[ns]\n",
      "IsActive               23929 non-null int64\n",
      "CreatedDate_x          23929 non-null datetime64[ns]\n",
      "SoldPlanID             23929 non-null int64\n",
      "PlanID                 23929 non-null int64\n",
      "PlanAmount             23929 non-null int64\n",
      "FulfillerID            23929 non-null int64\n",
      "ConsumerProductID_y    23929 non-null int64\n",
      "DateOfPurchase_y       23929 non-null datetime64[ns]\n",
      "DateOfActivation       23929 non-null datetime64[ns]\n",
      "ValidityDate           23929 non-null datetime64[ns]\n",
      "Status                 23929 non-null int64\n",
      "Source                 23929 non-null object\n",
      "CreatedDate_y          23929 non-null datetime64[ns]\n",
      "dtypes: datetime64[ns](7), int64(13), object(2)\n",
      "memory usage: 4.2+ MB\n"
     ]
    }
   ],
   "source": [
    "df_merged.info()"
   ]
  },
  {
   "cell_type": "code",
   "execution_count": 16,
   "metadata": {},
   "outputs": [
    {
     "data": {
      "text/html": [
       "<div>\n",
       "<style scoped>\n",
       "    .dataframe tbody tr th:only-of-type {\n",
       "        vertical-align: middle;\n",
       "    }\n",
       "\n",
       "    .dataframe tbody tr th {\n",
       "        vertical-align: top;\n",
       "    }\n",
       "\n",
       "    .dataframe thead th {\n",
       "        text-align: right;\n",
       "    }\n",
       "</style>\n",
       "<table border=\"1\" class=\"dataframe\">\n",
       "  <thead>\n",
       "    <tr style=\"text-align: right;\">\n",
       "      <th></th>\n",
       "      <th>ConsumerID</th>\n",
       "      <th>BrandID</th>\n",
       "      <th>SoldPlanID</th>\n",
       "      <th>counts</th>\n",
       "    </tr>\n",
       "  </thead>\n",
       "  <tbody>\n",
       "    <tr>\n",
       "      <th>0</th>\n",
       "      <td>56</td>\n",
       "      <td>41</td>\n",
       "      <td>1514962</td>\n",
       "      <td>1</td>\n",
       "    </tr>\n",
       "    <tr>\n",
       "      <th>1</th>\n",
       "      <td>61</td>\n",
       "      <td>72</td>\n",
       "      <td>842920</td>\n",
       "      <td>1</td>\n",
       "    </tr>\n",
       "    <tr>\n",
       "      <th>2</th>\n",
       "      <td>183</td>\n",
       "      <td>34</td>\n",
       "      <td>139512</td>\n",
       "      <td>1</td>\n",
       "    </tr>\n",
       "    <tr>\n",
       "      <th>3</th>\n",
       "      <td>234</td>\n",
       "      <td>85</td>\n",
       "      <td>1945434</td>\n",
       "      <td>1</td>\n",
       "    </tr>\n",
       "    <tr>\n",
       "      <th>4</th>\n",
       "      <td>325</td>\n",
       "      <td>74</td>\n",
       "      <td>333435</td>\n",
       "      <td>1</td>\n",
       "    </tr>\n",
       "  </tbody>\n",
       "</table>\n",
       "</div>"
      ],
      "text/plain": [
       "   ConsumerID  BrandID  SoldPlanID  counts\n",
       "0          56       41     1514962       1\n",
       "1          61       72      842920       1\n",
       "2         183       34      139512       1\n",
       "3         234       85     1945434       1\n",
       "4         325       74      333435       1"
      ]
     },
     "execution_count": 16,
     "metadata": {},
     "output_type": "execute_result"
    }
   ],
   "source": [
    "df_merged_grouped = df_merged.groupby(['ConsumerID', 'BrandID', 'SoldPlanID']).size().reset_index(name='counts')\n",
    "df_merged_grouped.head(5)"
   ]
  },
  {
   "cell_type": "code",
   "execution_count": 19,
   "metadata": {},
   "outputs": [
    {
     "data": {
      "text/html": [
       "<div>\n",
       "<style scoped>\n",
       "    .dataframe tbody tr th:only-of-type {\n",
       "        vertical-align: middle;\n",
       "    }\n",
       "\n",
       "    .dataframe tbody tr th {\n",
       "        vertical-align: top;\n",
       "    }\n",
       "\n",
       "    .dataframe thead th {\n",
       "        text-align: right;\n",
       "    }\n",
       "</style>\n",
       "<table border=\"1\" class=\"dataframe\">\n",
       "  <thead>\n",
       "    <tr style=\"text-align: right;\">\n",
       "      <th></th>\n",
       "      <th>BrandID</th>\n",
       "      <th>TotalPlansSoldperBrand</th>\n",
       "    </tr>\n",
       "  </thead>\n",
       "  <tbody>\n",
       "    <tr>\n",
       "      <th>0</th>\n",
       "      <td>1</td>\n",
       "      <td>247</td>\n",
       "    </tr>\n",
       "    <tr>\n",
       "      <th>1</th>\n",
       "      <td>2</td>\n",
       "      <td>248</td>\n",
       "    </tr>\n",
       "    <tr>\n",
       "      <th>2</th>\n",
       "      <td>3</td>\n",
       "      <td>228</td>\n",
       "    </tr>\n",
       "    <tr>\n",
       "      <th>3</th>\n",
       "      <td>4</td>\n",
       "      <td>231</td>\n",
       "    </tr>\n",
       "    <tr>\n",
       "      <th>4</th>\n",
       "      <td>5</td>\n",
       "      <td>246</td>\n",
       "    </tr>\n",
       "    <tr>\n",
       "      <th>5</th>\n",
       "      <td>6</td>\n",
       "      <td>261</td>\n",
       "    </tr>\n",
       "    <tr>\n",
       "      <th>6</th>\n",
       "      <td>7</td>\n",
       "      <td>269</td>\n",
       "    </tr>\n",
       "    <tr>\n",
       "      <th>7</th>\n",
       "      <td>8</td>\n",
       "      <td>215</td>\n",
       "    </tr>\n",
       "    <tr>\n",
       "      <th>8</th>\n",
       "      <td>9</td>\n",
       "      <td>257</td>\n",
       "    </tr>\n",
       "    <tr>\n",
       "      <th>9</th>\n",
       "      <td>10</td>\n",
       "      <td>232</td>\n",
       "    </tr>\n",
       "  </tbody>\n",
       "</table>\n",
       "</div>"
      ],
      "text/plain": [
       "   BrandID  TotalPlansSoldperBrand\n",
       "0        1                     247\n",
       "1        2                     248\n",
       "2        3                     228\n",
       "3        4                     231\n",
       "4        5                     246\n",
       "5        6                     261\n",
       "6        7                     269\n",
       "7        8                     215\n",
       "8        9                     257\n",
       "9       10                     232"
      ]
     },
     "execution_count": 19,
     "metadata": {},
     "output_type": "execute_result"
    }
   ],
   "source": [
    "df_merged_grouped1 = df_merged_grouped.groupby(['BrandID'])['counts'].sum().reset_index(name='TotalPlansSoldperBrand')\n",
    "df_merged_grouped1.head(10)"
   ]
  },
  {
   "cell_type": "code",
   "execution_count": 32,
   "metadata": {},
   "outputs": [
    {
     "data": {
      "text/plain": [
       "100"
      ]
     },
     "execution_count": 32,
     "metadata": {},
     "output_type": "execute_result"
    }
   ],
   "source": [
    "df_max = df_merged_grouped1.max()\n",
    "df_max\n",
    "df_max_brandid = df_max['BrandID'].max() \n",
    "df_max_totplans_sold = df_max['TotalPlansSoldperBrand'].max()\n",
    "df_max_totplans_sold\n",
    "df_max_brandid"
   ]
  },
  {
   "cell_type": "markdown",
   "metadata": {},
   "source": [
    "# Plotting a bar graph"
   ]
  },
  {
   "cell_type": "code",
   "execution_count": 62,
   "metadata": {},
   "outputs": [
    {
     "data": {
      "text/plain": [
       "<matplotlib.axes._subplots.AxesSubplot at 0xdfb2d68>"
      ]
     },
     "execution_count": 62,
     "metadata": {},
     "output_type": "execute_result"
    },
    {
     "data": {
      "image/png": "[encoded data removed]",
      "text/plain": [
       "<Figure size 432x288 with 1 Axes>"
      ]
     },
     "metadata": {
      "needs_background": "light"
     },
     "output_type": "display_data"
    }
   ],
   "source": [
    "#plot df_merged_grouped1 dataframe(for entire dataframe)\n",
    "df_merged_grouped1.plot.bar()"
   ]
  },
  {
   "cell_type": "code",
   "execution_count": 63,
   "metadata": {},
   "outputs": [],
   "source": [
    "#Increasing the size of the graph\n",
    "import matplotlib.pyplot as plt\n",
    "plt.rcParams['figure.figsize'] = (40,20)"
   ]
  },
  {
   "cell_type": "code",
   "execution_count": 64,
   "metadata": {},
   "outputs": [],
   "source": [
    "#making the plot outputs appear and be stored within the notebook\n",
    "%matplotlib inline"
   ]
  },
  {
   "cell_type": "code",
   "execution_count": 65,
   "metadata": {},
   "outputs": [
    {
     "data": {
      "text/plain": [
       "<matplotlib.axes._subplots.AxesSubplot at 0xda8d780>"
      ]
     },
     "execution_count": 65,
     "metadata": {},
     "output_type": "execute_result"
    },
    {
     "data": {
      "image/png": "[encoded data removed]",
      "text/plain": [
       "<Figure size 432x288 with 1 Axes>"
      ]
     },
     "metadata": {
      "needs_background": "light"
     },
     "output_type": "display_data"
    }
   ],
   "source": [
    "#plot dataframe\n",
    "df_merged_grouped1.plot.bar()"
   ]
  },
  {
   "cell_type": "code",
   "execution_count": 68,
   "metadata": {},
   "outputs": [
    {
     "data": {
      "text/plain": [
       "<matplotlib.axes._subplots.AxesSubplot at 0xf620898>"
      ]
     },
     "execution_count": 68,
     "metadata": {},
     "output_type": "execute_result"
    },
    {
     "data": {
      "image/png": "[encoded data removed]",
      "text/plain": [
       "<Figure size 432x288 with 1 Axes>"
      ]
     },
     "metadata": {
      "needs_background": "light"
     },
     "output_type": "display_data"
    }
   ],
   "source": [
    "#plot df_max dataframe(to find the brand_id and total number of sales)\n",
    "df_max.plot.bar()"
   ]
  },
  {
   "cell_type": "code",
   "execution_count": 46,
   "metadata": {},
   "outputs": [],
   "source": [
    "#making the plot outputs appear and be stored within the notebook\n",
    "%matplotlib inline"
   ]
  },
  {
   "cell_type": "code",
   "execution_count": 67,
   "metadata": {},
   "outputs": [
    {
     "data": {
      "text/plain": [
       "<matplotlib.axes._subplots.AxesSubplot at 0xf617b70>"
      ]
     },
     "execution_count": 67,
     "metadata": {},
     "output_type": "execute_result"
    },
    {
     "data": {
      "image/png": "[encoded data removed]",
      "text/plain": [
       "<Figure size 432x288 with 1 Axes>"
      ]
     },
     "metadata": {
      "needs_background": "light"
     },
     "output_type": "display_data"
    }
   ],
   "source": [
    "#plot dataframe\n",
    "df_max.plot.bar()"
   ]
  },
  {
   "cell_type": "code",
   "execution_count": null,
   "metadata": {},
   "outputs": [],
   "source": []
  }
 ],
 "metadata": {
  "kernelspec": {
   "display_name": "Python 3",
   "language": "python",
   "name": "python3"
  },
  "language_info": {
   "codemirror_mode": {
    "name": "ipython",
    "version": 3
   },
   "file_extension": ".py",
   "mimetype": "text/x-python",
   "name": "python",
   "nbconvert_exporter": "python",
   "pygments_lexer": "ipython3",
   "version": "3.7.1"
  }
 },
 "nbformat": 4,
 "nbformat_minor": 2
}
